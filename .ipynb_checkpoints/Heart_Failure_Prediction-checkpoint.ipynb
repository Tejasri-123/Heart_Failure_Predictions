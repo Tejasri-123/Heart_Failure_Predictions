{
 "cells": [
  {
   "cell_type": "markdown",
   "id": "e3df63c5",
   "metadata": {},
   "source": [
    "# HEART FAILURE PREDICTIONS\n"
   ]
  },
  {
   "cell_type": "markdown",
   "id": "81219d67",
   "metadata": {},
   "source": [
    "In This dataset we are going to create a model on predicting the heart failure."
   ]
  },
  {
   "cell_type": "markdown",
   "id": "fb542980",
   "metadata": {},
   "source": [
    " Importing libraries"
   ]
  },
  {
   "cell_type": "code",
   "execution_count": 1,
   "id": "49d7d682",
   "metadata": {},
   "outputs": [],
   "source": [
    "import numpy as np\n",
    "import pandas as pd\n",
    "import seaborn as sns\n",
    "import matplotlib.pyplot as plt\n",
    "import warnings\n",
    "warnings.simplefilter(\"ignore\")\n",
    "from sklearn.linear_model import LogisticRegression\n",
    "from sklearn import metrics\n",
    "from sklearn.metrics import confusion_matrix, classification_report\n",
    "from sklearn.model_selection import cross_val_score\n",
    "\n",
    "from sklearn.ensemble import RandomForestClassifier\n",
    "from sklearn.tree import DecisionTreeClassifier\n",
    "from sklearn.model_selection import train_test_split"
   ]
  },
  {
   "cell_type": "code",
   "execution_count": 2,
   "id": "7d9d521e",
   "metadata": {},
   "outputs": [
    {
     "ename": "FileNotFoundError",
     "evalue": "[Errno 2] No such file or directory: 'heart_failure.csv'",
     "output_type": "error",
     "traceback": [
      "\u001b[1;31m---------------------------------------------------------------------------\u001b[0m",
      "\u001b[1;31mFileNotFoundError\u001b[0m                         Traceback (most recent call last)",
      "\u001b[1;32m<ipython-input-2-5d0ec00046cb>\u001b[0m in \u001b[0;36m<module>\u001b[1;34m\u001b[0m\n\u001b[1;32m----> 1\u001b[1;33m \u001b[0mheart\u001b[0m\u001b[1;33m=\u001b[0m\u001b[0mpd\u001b[0m\u001b[1;33m.\u001b[0m\u001b[0mread_csv\u001b[0m\u001b[1;33m(\u001b[0m\u001b[1;34m\"heart_failure.csv\"\u001b[0m\u001b[1;33m)\u001b[0m\u001b[1;33m\u001b[0m\u001b[1;33m\u001b[0m\u001b[0m\n\u001b[0m\u001b[0;32m      2\u001b[0m \u001b[0mheart\u001b[0m\u001b[1;33m.\u001b[0m\u001b[0minfo\u001b[0m\u001b[1;33m(\u001b[0m\u001b[1;33m)\u001b[0m\u001b[1;33m\u001b[0m\u001b[1;33m\u001b[0m\u001b[0m\n",
      "\u001b[1;32m~\\anaconda3\\lib\\site-packages\\pandas\\io\\parsers.py\u001b[0m in \u001b[0;36mread_csv\u001b[1;34m(filepath_or_buffer, sep, delimiter, header, names, index_col, usecols, squeeze, prefix, mangle_dupe_cols, dtype, engine, converters, true_values, false_values, skipinitialspace, skiprows, skipfooter, nrows, na_values, keep_default_na, na_filter, verbose, skip_blank_lines, parse_dates, infer_datetime_format, keep_date_col, date_parser, dayfirst, cache_dates, iterator, chunksize, compression, thousands, decimal, lineterminator, quotechar, quoting, doublequote, escapechar, comment, encoding, dialect, error_bad_lines, warn_bad_lines, delim_whitespace, low_memory, memory_map, float_precision, storage_options)\u001b[0m\n\u001b[0;32m    608\u001b[0m     \u001b[0mkwds\u001b[0m\u001b[1;33m.\u001b[0m\u001b[0mupdate\u001b[0m\u001b[1;33m(\u001b[0m\u001b[0mkwds_defaults\u001b[0m\u001b[1;33m)\u001b[0m\u001b[1;33m\u001b[0m\u001b[1;33m\u001b[0m\u001b[0m\n\u001b[0;32m    609\u001b[0m \u001b[1;33m\u001b[0m\u001b[0m\n\u001b[1;32m--> 610\u001b[1;33m     \u001b[1;32mreturn\u001b[0m \u001b[0m_read\u001b[0m\u001b[1;33m(\u001b[0m\u001b[0mfilepath_or_buffer\u001b[0m\u001b[1;33m,\u001b[0m \u001b[0mkwds\u001b[0m\u001b[1;33m)\u001b[0m\u001b[1;33m\u001b[0m\u001b[1;33m\u001b[0m\u001b[0m\n\u001b[0m\u001b[0;32m    611\u001b[0m \u001b[1;33m\u001b[0m\u001b[0m\n\u001b[0;32m    612\u001b[0m \u001b[1;33m\u001b[0m\u001b[0m\n",
      "\u001b[1;32m~\\anaconda3\\lib\\site-packages\\pandas\\io\\parsers.py\u001b[0m in \u001b[0;36m_read\u001b[1;34m(filepath_or_buffer, kwds)\u001b[0m\n\u001b[0;32m    460\u001b[0m \u001b[1;33m\u001b[0m\u001b[0m\n\u001b[0;32m    461\u001b[0m     \u001b[1;31m# Create the parser.\u001b[0m\u001b[1;33m\u001b[0m\u001b[1;33m\u001b[0m\u001b[1;33m\u001b[0m\u001b[0m\n\u001b[1;32m--> 462\u001b[1;33m     \u001b[0mparser\u001b[0m \u001b[1;33m=\u001b[0m \u001b[0mTextFileReader\u001b[0m\u001b[1;33m(\u001b[0m\u001b[0mfilepath_or_buffer\u001b[0m\u001b[1;33m,\u001b[0m \u001b[1;33m**\u001b[0m\u001b[0mkwds\u001b[0m\u001b[1;33m)\u001b[0m\u001b[1;33m\u001b[0m\u001b[1;33m\u001b[0m\u001b[0m\n\u001b[0m\u001b[0;32m    463\u001b[0m \u001b[1;33m\u001b[0m\u001b[0m\n\u001b[0;32m    464\u001b[0m     \u001b[1;32mif\u001b[0m \u001b[0mchunksize\u001b[0m \u001b[1;32mor\u001b[0m \u001b[0miterator\u001b[0m\u001b[1;33m:\u001b[0m\u001b[1;33m\u001b[0m\u001b[1;33m\u001b[0m\u001b[0m\n",
      "\u001b[1;32m~\\anaconda3\\lib\\site-packages\\pandas\\io\\parsers.py\u001b[0m in \u001b[0;36m__init__\u001b[1;34m(self, f, engine, **kwds)\u001b[0m\n\u001b[0;32m    817\u001b[0m             \u001b[0mself\u001b[0m\u001b[1;33m.\u001b[0m\u001b[0moptions\u001b[0m\u001b[1;33m[\u001b[0m\u001b[1;34m\"has_index_names\"\u001b[0m\u001b[1;33m]\u001b[0m \u001b[1;33m=\u001b[0m \u001b[0mkwds\u001b[0m\u001b[1;33m[\u001b[0m\u001b[1;34m\"has_index_names\"\u001b[0m\u001b[1;33m]\u001b[0m\u001b[1;33m\u001b[0m\u001b[1;33m\u001b[0m\u001b[0m\n\u001b[0;32m    818\u001b[0m \u001b[1;33m\u001b[0m\u001b[0m\n\u001b[1;32m--> 819\u001b[1;33m         \u001b[0mself\u001b[0m\u001b[1;33m.\u001b[0m\u001b[0m_engine\u001b[0m \u001b[1;33m=\u001b[0m \u001b[0mself\u001b[0m\u001b[1;33m.\u001b[0m\u001b[0m_make_engine\u001b[0m\u001b[1;33m(\u001b[0m\u001b[0mself\u001b[0m\u001b[1;33m.\u001b[0m\u001b[0mengine\u001b[0m\u001b[1;33m)\u001b[0m\u001b[1;33m\u001b[0m\u001b[1;33m\u001b[0m\u001b[0m\n\u001b[0m\u001b[0;32m    820\u001b[0m \u001b[1;33m\u001b[0m\u001b[0m\n\u001b[0;32m    821\u001b[0m     \u001b[1;32mdef\u001b[0m \u001b[0mclose\u001b[0m\u001b[1;33m(\u001b[0m\u001b[0mself\u001b[0m\u001b[1;33m)\u001b[0m\u001b[1;33m:\u001b[0m\u001b[1;33m\u001b[0m\u001b[1;33m\u001b[0m\u001b[0m\n",
      "\u001b[1;32m~\\anaconda3\\lib\\site-packages\\pandas\\io\\parsers.py\u001b[0m in \u001b[0;36m_make_engine\u001b[1;34m(self, engine)\u001b[0m\n\u001b[0;32m   1048\u001b[0m             )\n\u001b[0;32m   1049\u001b[0m         \u001b[1;31m# error: Too many arguments for \"ParserBase\"\u001b[0m\u001b[1;33m\u001b[0m\u001b[1;33m\u001b[0m\u001b[1;33m\u001b[0m\u001b[0m\n\u001b[1;32m-> 1050\u001b[1;33m         \u001b[1;32mreturn\u001b[0m \u001b[0mmapping\u001b[0m\u001b[1;33m[\u001b[0m\u001b[0mengine\u001b[0m\u001b[1;33m]\u001b[0m\u001b[1;33m(\u001b[0m\u001b[0mself\u001b[0m\u001b[1;33m.\u001b[0m\u001b[0mf\u001b[0m\u001b[1;33m,\u001b[0m \u001b[1;33m**\u001b[0m\u001b[0mself\u001b[0m\u001b[1;33m.\u001b[0m\u001b[0moptions\u001b[0m\u001b[1;33m)\u001b[0m  \u001b[1;31m# type: ignore[call-arg]\u001b[0m\u001b[1;33m\u001b[0m\u001b[1;33m\u001b[0m\u001b[0m\n\u001b[0m\u001b[0;32m   1051\u001b[0m \u001b[1;33m\u001b[0m\u001b[0m\n\u001b[0;32m   1052\u001b[0m     \u001b[1;32mdef\u001b[0m \u001b[0m_failover_to_python\u001b[0m\u001b[1;33m(\u001b[0m\u001b[0mself\u001b[0m\u001b[1;33m)\u001b[0m\u001b[1;33m:\u001b[0m\u001b[1;33m\u001b[0m\u001b[1;33m\u001b[0m\u001b[0m\n",
      "\u001b[1;32m~\\anaconda3\\lib\\site-packages\\pandas\\io\\parsers.py\u001b[0m in \u001b[0;36m__init__\u001b[1;34m(self, src, **kwds)\u001b[0m\n\u001b[0;32m   1865\u001b[0m \u001b[1;33m\u001b[0m\u001b[0m\n\u001b[0;32m   1866\u001b[0m         \u001b[1;31m# open handles\u001b[0m\u001b[1;33m\u001b[0m\u001b[1;33m\u001b[0m\u001b[1;33m\u001b[0m\u001b[0m\n\u001b[1;32m-> 1867\u001b[1;33m         \u001b[0mself\u001b[0m\u001b[1;33m.\u001b[0m\u001b[0m_open_handles\u001b[0m\u001b[1;33m(\u001b[0m\u001b[0msrc\u001b[0m\u001b[1;33m,\u001b[0m \u001b[0mkwds\u001b[0m\u001b[1;33m)\u001b[0m\u001b[1;33m\u001b[0m\u001b[1;33m\u001b[0m\u001b[0m\n\u001b[0m\u001b[0;32m   1868\u001b[0m         \u001b[1;32massert\u001b[0m \u001b[0mself\u001b[0m\u001b[1;33m.\u001b[0m\u001b[0mhandles\u001b[0m \u001b[1;32mis\u001b[0m \u001b[1;32mnot\u001b[0m \u001b[1;32mNone\u001b[0m\u001b[1;33m\u001b[0m\u001b[1;33m\u001b[0m\u001b[0m\n\u001b[0;32m   1869\u001b[0m         \u001b[1;32mfor\u001b[0m \u001b[0mkey\u001b[0m \u001b[1;32min\u001b[0m \u001b[1;33m(\u001b[0m\u001b[1;34m\"storage_options\"\u001b[0m\u001b[1;33m,\u001b[0m \u001b[1;34m\"encoding\"\u001b[0m\u001b[1;33m,\u001b[0m \u001b[1;34m\"memory_map\"\u001b[0m\u001b[1;33m,\u001b[0m \u001b[1;34m\"compression\"\u001b[0m\u001b[1;33m)\u001b[0m\u001b[1;33m:\u001b[0m\u001b[1;33m\u001b[0m\u001b[1;33m\u001b[0m\u001b[0m\n",
      "\u001b[1;32m~\\anaconda3\\lib\\site-packages\\pandas\\io\\parsers.py\u001b[0m in \u001b[0;36m_open_handles\u001b[1;34m(self, src, kwds)\u001b[0m\n\u001b[0;32m   1360\u001b[0m         \u001b[0mLet\u001b[0m \u001b[0mthe\u001b[0m \u001b[0mreaders\u001b[0m \u001b[0mopen\u001b[0m \u001b[0mIOHanldes\u001b[0m \u001b[0mafter\u001b[0m \u001b[0mthey\u001b[0m \u001b[0mare\u001b[0m \u001b[0mdone\u001b[0m \u001b[1;32mwith\u001b[0m \u001b[0mtheir\u001b[0m \u001b[0mpotential\u001b[0m \u001b[0mraises\u001b[0m\u001b[1;33m.\u001b[0m\u001b[1;33m\u001b[0m\u001b[1;33m\u001b[0m\u001b[0m\n\u001b[0;32m   1361\u001b[0m         \"\"\"\n\u001b[1;32m-> 1362\u001b[1;33m         self.handles = get_handle(\n\u001b[0m\u001b[0;32m   1363\u001b[0m             \u001b[0msrc\u001b[0m\u001b[1;33m,\u001b[0m\u001b[1;33m\u001b[0m\u001b[1;33m\u001b[0m\u001b[0m\n\u001b[0;32m   1364\u001b[0m             \u001b[1;34m\"r\"\u001b[0m\u001b[1;33m,\u001b[0m\u001b[1;33m\u001b[0m\u001b[1;33m\u001b[0m\u001b[0m\n",
      "\u001b[1;32m~\\anaconda3\\lib\\site-packages\\pandas\\io\\common.py\u001b[0m in \u001b[0;36mget_handle\u001b[1;34m(path_or_buf, mode, encoding, compression, memory_map, is_text, errors, storage_options)\u001b[0m\n\u001b[0;32m    640\u001b[0m                 \u001b[0merrors\u001b[0m \u001b[1;33m=\u001b[0m \u001b[1;34m\"replace\"\u001b[0m\u001b[1;33m\u001b[0m\u001b[1;33m\u001b[0m\u001b[0m\n\u001b[0;32m    641\u001b[0m             \u001b[1;31m# Encoding\u001b[0m\u001b[1;33m\u001b[0m\u001b[1;33m\u001b[0m\u001b[1;33m\u001b[0m\u001b[0m\n\u001b[1;32m--> 642\u001b[1;33m             handle = open(\n\u001b[0m\u001b[0;32m    643\u001b[0m                 \u001b[0mhandle\u001b[0m\u001b[1;33m,\u001b[0m\u001b[1;33m\u001b[0m\u001b[1;33m\u001b[0m\u001b[0m\n\u001b[0;32m    644\u001b[0m                 \u001b[0mioargs\u001b[0m\u001b[1;33m.\u001b[0m\u001b[0mmode\u001b[0m\u001b[1;33m,\u001b[0m\u001b[1;33m\u001b[0m\u001b[1;33m\u001b[0m\u001b[0m\n",
      "\u001b[1;31mFileNotFoundError\u001b[0m: [Errno 2] No such file or directory: 'heart_failure.csv'"
     ]
    }
   ],
   "source": [
    "heart=pd.read_csv(\"heart_failure.csv\")\n",
    "heart.info()"
   ]
  },
  {
   "cell_type": "code",
   "execution_count": null,
   "id": "cd9ef414",
   "metadata": {
    "scrolled": true
   },
   "outputs": [],
   "source": [
    "heart.describe()"
   ]
  },
  {
   "cell_type": "code",
   "execution_count": null,
   "id": "f41907b4",
   "metadata": {
    "scrolled": true
   },
   "outputs": [],
   "source": [
    "heart.head(5)"
   ]
  },
  {
   "cell_type": "markdown",
   "id": "e43c44a8",
   "metadata": {},
   "source": [
    "Sex - Gender of patient Male = 1, Female =0\n",
    "Age - Age of patient\n",
    "Diabetes - 0 = No, 1 = Yes\n",
    "Anaemia - 0 = No, 1 = Yes\n",
    "High_blood_pressure - 0 = No, 1 = Yes\n",
    "Smoking - 0 = No, 1 = Yes\n",
    "DEATH_EVENT - 0 = No, 1 = Yes"
   ]
  },
  {
   "cell_type": "markdown",
   "id": "5103e36a",
   "metadata": {},
   "source": [
    "Now we are going to finding the null values in the data set"
   ]
  },
  {
   "cell_type": "code",
   "execution_count": null,
   "id": "5515be68",
   "metadata": {
    "scrolled": true
   },
   "outputs": [],
   "source": [
    "heart.isnull().sum()"
   ]
  },
  {
   "cell_type": "code",
   "execution_count": null,
   "id": "755989d2",
   "metadata": {},
   "outputs": [],
   "source": [
    "sns.heatmap(heart.isnull(),cmap=\"Greens\")"
   ]
  },
  {
   "cell_type": "code",
   "execution_count": null,
   "id": "eba5fc2f",
   "metadata": {},
   "outputs": [],
   "source": [
    "heart[\"platelets\"]=heart[\"platelets\"].astype(int)\n",
    "heart[\"age\"]=heart[\"age\"].astype(int)\n",
    "heart[\"anaemia\"]=heart[\"anaemia\"].astype(int)\n",
    "heart[\"platelets\"]=heart[\"platelets\"].astype(int)\n",
    "heart\n",
    "                                             "
   ]
  },
  {
   "cell_type": "markdown",
   "id": "945946ef",
   "metadata": {},
   "source": [
    "we notice that there is no null in the dataset and no categorial values"
   ]
  },
  {
   "cell_type": "markdown",
   "id": "39ea95bf",
   "metadata": {},
   "source": [
    "Now we use the visualization techniques to visualize our data and further fitting into models"
   ]
  },
  {
   "cell_type": "code",
   "execution_count": null,
   "id": "a39eb2ac",
   "metadata": {},
   "outputs": [],
   "source": [
    "print(\"HEART FAILED:\",heart.DEATH_EVENT.value_counts()[1])\n",
    "print(\"HEART NOT FAILED:\",heart.DEATH_EVENT.value_counts()[0])\n"
   ]
  },
  {
   "cell_type": "code",
   "execution_count": null,
   "id": "9c965e43",
   "metadata": {},
   "outputs": [],
   "source": [
    "fig, ax = plt.subplots(figsize=(6,6))\n",
    "\n",
    "plt.pie(x=heart[\"sex\"].value_counts(),colors=[\"violet\",\"seagreen\"],explode = ( 0.1,0.1),labels=[\"MALE\",\"FEMALE\"],shadow = True)"
   ]
  },
  {
   "cell_type": "code",
   "execution_count": null,
   "id": "9afaeb32",
   "metadata": {},
   "outputs": [],
   "source": [
    "fig, ax = plt.subplots(figsize=(6,6))\n",
    "\n",
    "plt.pie(x=heart[\"DEATH_EVENT\"].value_counts(),colors=[\"green\",\"red\"],explode = ( 0.1,0.1),labels=[\"Heart not failed\",\" Heart failed\"],startangle=90,shadow = True)"
   ]
  },
  {
   "cell_type": "code",
   "execution_count": null,
   "id": "bbd8f553",
   "metadata": {},
   "outputs": [],
   "source": [
    "sns.countplot(x='DEATH_EVENT',data=heart,palette='rocket_r')\n",
    "plt.show()"
   ]
  },
  {
   "cell_type": "code",
   "execution_count": null,
   "id": "6320e120",
   "metadata": {},
   "outputs": [],
   "source": [
    "plt.subplot(1,2,1)\n",
    "sns.countplot(x='DEATH_EVENT',data=heart,palette='rocket_r')\n",
    "\n",
    "plt.subplot(1,2,2)\n",
    "sns.countplot(x='DEATH_EVENT',hue=\"sex\",data=heart,palette='viridis')"
   ]
  },
  {
   "cell_type": "code",
   "execution_count": null,
   "id": "ff1c3bbf",
   "metadata": {},
   "outputs": [],
   "source": [
    "plt.subplot(1,2,1)\n",
    "sns.countplot(x='smoking',hue=\"DEATH_EVENT\",data=heart,palette=\"inferno_r\")\n",
    "\n",
    "plt.subplot(1,2,2)\n",
    "sns.countplot(x='diabetes',hue=\"DEATH_EVENT\",data=heart,palette='viridis')\n",
    "\n",
    "\n"
   ]
  },
  {
   "cell_type": "code",
   "execution_count": null,
   "id": "bcb9822e",
   "metadata": {},
   "outputs": [],
   "source": [
    "plt.subplot(1,2,1)\n",
    "sns.countplot(x='high_blood_pressure',hue=\"DEATH_EVENT\",data=heart,palette='seismic_r')\n",
    "\n",
    "plt.subplot(1,2,2)\n",
    "sns.countplot(x='anaemia',hue=\"DEATH_EVENT\",data=heart,palette='gist_rainbow')"
   ]
  },
  {
   "cell_type": "code",
   "execution_count": null,
   "id": "37dc7bc5",
   "metadata": {},
   "outputs": [],
   "source": [
    "plt.figure(figsize=(7,5))\n",
    "plt.subplot(1,2,1)\n",
    "sns.countplot('smoking',hue='diabetes',data=heart)\n",
    "\n",
    "plt.subplot(1,2,2)\n",
    "sns.countplot('high_blood_pressure',hue='sex',data=heart)"
   ]
  },
  {
   "cell_type": "code",
   "execution_count": null,
   "id": "02dda6db",
   "metadata": {},
   "outputs": [],
   "source": [
    "bins=[10,20,30,40,50,60,70,80,90,100]\n",
    "plt.hist(heart.time,bins=bins,color='#1aadad')\n",
    "plt.xticks(bins)\n",
    "plt.xlabel(\"BINS\")\n",
    "plt.ylabel(\"TIME\")\n",
    "plt.show\n"
   ]
  },
  {
   "cell_type": "code",
   "execution_count": null,
   "id": "15cbaa85",
   "metadata": {},
   "outputs": [],
   "source": [
    "import plotly.graph_objects as go\n",
    "from plotly.subplots import make_subplots\n",
    "\n",
    "d1 = heart[(heart[\"DEATH_EVENT\"]==0) & (heart[\"sex\"]==1)]\n",
    "d2 = heart[(heart[\"DEATH_EVENT\"]==1) & (heart[\"sex\"]==1)]\n",
    "d3 = heart[(heart[\"DEATH_EVENT\"]==0) & (heart[\"sex\"]==0)]\n",
    "d4 = heart[(heart[\"DEATH_EVENT\"]==1) & (heart[\"sex\"]==0)]\n",
    "\n",
    "label1 = [\"Male\",\"Female\"]\n",
    "label2 = ['Male - Survived','Male - Died', \"Female -  Survived\", \"Female - Died\"]\n",
    "values1 = [(len(d1)+len(d2)), (len(d3)+len(d4))]\n",
    "values2 = [len(d1),len(d2),len(d3),len(d4)]\n",
    "\n",
    "# Create subplots: use 'domain' type for Pie subplot\n",
    "fig = make_subplots(rows=1, cols=2, specs=[[{'type':'domain'}, {'type':'domain'}]])\n",
    "fig.add_trace(go.Pie(labels=label1, values=values1, name=\"GENDER\"),\n",
    "              1, 1)\n",
    "fig.add_trace(go.Pie(labels=label2, values=values2, name=\"GENDER VS DEATH_EVENT\"),\n",
    "              1, 2)\n",
    "\n",
    "# Use `hole` to create a donut-like pie chart\n",
    "fig.update_traces(hole=.4, hoverinfo=\"label+percent\")\n",
    "\n",
    "fig.update_layout(\n",
    "    title_text=\"GENDER DISTRIBUTION IN THE DATASET  \\\n",
    "                   GENDER VS DEATH_EVENT\",\n",
    "    # Add annotations in the center of the donut pies.\n",
    "    annotations=[dict(text='GENDER', x=0.19, y=0.5, font_size=10, showarrow=False),\n",
    "                 dict(text='GENDER VS DEATH_EVENT', x=0.84, y=0.5, font_size=9, showarrow=False)],\n",
    "    autosize=False,width=900, height=400, paper_bgcolor=\"white\")\n",
    "\n",
    "fig.show()\n"
   ]
  },
  {
   "cell_type": "code",
   "execution_count": null,
   "id": "de13bbe9",
   "metadata": {},
   "outputs": [],
   "source": [
    "import plotly.graph_objects as go\n",
    "from plotly.subplots import make_subplots\n",
    "\n",
    "d1 =heart[(heart[\"DEATH_EVENT\"]==0) & (heart[\"diabetes\"]==0)]\n",
    "d2 = heart[(heart[\"DEATH_EVENT\"]==0) & (heart[\"diabetes\"]==1)]\n",
    "d3 = heart[(heart[\"DEATH_EVENT\"]==1) & (heart[\"diabetes\"]==0)]\n",
    "d4 = heart[(heart[\"DEATH_EVENT\"]==1) & (heart[\"diabetes\"]==1)]\n",
    "\n",
    "label1 = [\"No Diabetes\",\"Diabetes\"]\n",
    "label2 = ['No Diabetes - Survived','Diabetes - Survived', \"No Diabetes -  Died\", \"Diabetes  - Died\"]\n",
    "values1 = [(len(d1)+len(d3)), (len(d2)+len(d4))]\n",
    "values2 = [len(d1),len(d2),len(d3),len(d4)]\n",
    "\n",
    "# Create subplots: use 'domain' type for Pie subplot\n",
    "fig = make_subplots(rows=1, cols=2, specs=[[{'type':'domain'}, {'type':'domain'}]])\n",
    "fig.add_trace(go.Pie(labels=label1, values=values1, name=\"DIABETES\"),\n",
    "              1, 1)\n",
    "fig.add_trace(go.Pie(labels=label2, values=values2, name=\"DIABETES VS DEATH_EVENT\"),\n",
    "              1, 2)\n",
    "\n",
    "# Use `hole` to create a donut-like pie chart\n",
    "fig.update_traces(hole=.4, hoverinfo=\"label+percent\")\n",
    "\n",
    "fig.update_layout(\n",
    "    title_text=\"DIABETES DISTRIBUTION IN THE DATASET \\\n",
    "                  DIABETES VS DEATH_EVENT\",\n",
    "    # Add annotations in the center of the donut pies.\n",
    "    annotations=[dict(text='DIABETES', x=0.20, y=0.5, font_size=10, showarrow=False),\n",
    "                 dict(text='DIABETES VS DEATH_EVENT', x=0.84, y=0.5, font_size=8, showarrow=False)],\n",
    "    autosize=False,width=900, height=400, paper_bgcolor=\"white\")\n",
    "fig.show()\n"
   ]
  },
  {
   "cell_type": "code",
   "execution_count": null,
   "id": "741391bc",
   "metadata": {},
   "outputs": [],
   "source": [
    "import plotly.graph_objects as go\n",
    "from plotly.subplots import make_subplots\n",
    "\n",
    "d1 = heart[(heart[\"DEATH_EVENT\"]==0) & (heart[\"anaemia\"]==0)]\n",
    "d2 = heart[(heart[\"DEATH_EVENT\"]==1) & (heart[\"anaemia\"]==0)]\n",
    "d3 = heart[(heart[\"DEATH_EVENT\"]==0) & (heart[\"anaemia\"]==1)]\n",
    "d4 = heart[(heart[\"DEATH_EVENT\"]==1) & (heart[\"anaemia\"]==1)]\n",
    "\n",
    "label1 = [\"No Anaemia\",\"Anaemia\"]\n",
    "label2 = ['No Anaemia - Survived','No Anaemia - Died', \"Anaemia -  Survived\", \"Anaemia  - Died\"]\n",
    "values1 = [(len(d1)+len(d2)), (len(d3)+len(d4))]\n",
    "values2 = [len(d1),len(d2),len(d3),len(d4)]\n",
    "\n",
    "# Create subplots: use 'domain' type for Pie subplot\n",
    "fig = make_subplots(rows=1, cols=2, specs=[[{'type':'domain'}, {'type':'domain'}]])\n",
    "fig.add_trace(go.Pie(labels=label1, values=values1, name=\"ANAEMIA\"),\n",
    "              1, 1)\n",
    "fig.add_trace(go.Pie(labels=label2, values=values2, name=\"ANAEMIA VS DEATH_EVENT\"),\n",
    "              1, 2)\n",
    "\n",
    "# Use `hole` to create a donut-like pie chart\n",
    "fig.update_traces(hole=.4, hoverinfo=\"label+percent\")\n",
    "\n",
    "fig.update_layout(\n",
    "    title_text=\"ANAEMIA DISTRIBUTION IN THE DATASET \\\n",
    "                  ANAEMIA VS DEATH_EVENT\",\n",
    "    # Add annotations in the center of the donut pies.\n",
    "    annotations=[dict(text='ANAEMIA', x=0.20, y=0.5, font_size=10, showarrow=False),\n",
    "                 dict(text='ANAEMIA VS DEATH_EVENT', x=0.84, y=0.5, font_size=8, showarrow=False)],\n",
    "    autosize=False,width=900, height=400, paper_bgcolor=\"white\")\n",
    "fig.show()"
   ]
  },
  {
   "cell_type": "code",
   "execution_count": null,
   "id": "fa3b60e3",
   "metadata": {},
   "outputs": [],
   "source": [
    "import plotly.graph_objects as go\n",
    "from plotly.subplots import make_subplots\n",
    "\n",
    "d1 = heart[(heart[\"DEATH_EVENT\"]==0) & (heart[\"anaemia\"]==0)]\n",
    "d2 = heart[(heart[\"DEATH_EVENT\"]==1) & (heart[\"anaemia\"]==0)]\n",
    "d3 = heart[(heart[\"DEATH_EVENT\"]==0) & (heart[\"anaemia\"]==1)]\n",
    "d4 = heart[(heart[\"DEATH_EVENT\"]==1) & (heart[\"anaemia\"]==1)]\n",
    "\n",
    "label1 = [\"No Anaemia\",\"Anaemia\"]\n",
    "label2 = ['No Anaemia - Survived','No Anaemia - Died', \"Anaemia -  Survived\", \"Anaemia  - Died\"]\n",
    "values1 = [(len(d1)+len(d2)), (len(d3)+len(d4))]\n",
    "values2 = [len(d1),len(d2),len(d3),len(d4)]\n",
    "\n",
    "# Create subplots: use 'domain' type for Pie subplot\n",
    "fig = make_subplots(rows=1, cols=2, specs=[[{'type':'domain'}, {'type':'domain'}]])\n",
    "fig.add_trace(go.Pie(labels=label1, values=values1, name=\"ANAEMIA\"),\n",
    "              1, 1)\n",
    "fig.add_trace(go.Pie(labels=label2, values=values2, name=\"ANAEMIA VS DEATH_EVENT\"),\n",
    "              1, 2)\n",
    "\n",
    "# Use `hole` to create a donut-like pie chart\n",
    "fig.update_traces(hole=.4, hoverinfo=\"label+percent\")\n",
    "\n",
    "fig.update_layout(\n",
    "    title_text=\"ANAEMIA DISTRIBUTION IN THE DATASET \\\n",
    "                  ANAEMIA VS DEATH_EVENT\",\n",
    "    # Add annotations in the center of the donut pies.\n",
    "    annotations=[dict(text='ANAEMIA', x=0.20, y=0.5, font_size=10, showarrow=False),\n",
    "                 dict(text='ANAEMIA VS DEATH_EVENT', x=0.84, y=0.5, font_size=8, showarrow=False)],\n",
    "    autosize=False,width=900, height=400, paper_bgcolor=\"white\")\n",
    "fig.show()"
   ]
  },
  {
   "cell_type": "code",
   "execution_count": null,
   "id": "3352e8ef",
   "metadata": {},
   "outputs": [],
   "source": []
  },
  {
   "cell_type": "code",
   "execution_count": null,
   "id": "334932fb",
   "metadata": {},
   "outputs": [],
   "source": [
    "import plotly.graph_objects as go\n",
    "from plotly.subplots import make_subplots\n",
    "\n",
    "d1 = heart[(heart[\"DEATH_EVENT\"]==0) & (heart[\"smoking\"]==0)]\n",
    "d2 = heart[(heart[\"DEATH_EVENT\"]==1) & (heart[\"smoking\"]==0)]\n",
    "d3 = heart[(heart[\"DEATH_EVENT\"]==0) & (heart[\"smoking\"]==1)]\n",
    "d4 = heart[(heart[\"DEATH_EVENT\"]==1) & (heart[\"smoking\"]==1)]\n",
    "\n",
    "label1 = [\"No Smoking\",\"Smoking\"]\n",
    "label2 = ['No Smoking - Survived','No Smoking - Died', \"Smoking - Survived\", \"Smoking - Died\"]\n",
    "values1 = [(len(d1)+len(d2)), (len(d3)+len(d4))]\n",
    "values2 = [len(d1),len(d2),len(d3),len(d4)]\n",
    "\n",
    "# Create subplots: use 'domain' type for Pie subplot\n",
    "fig = make_subplots(rows=1, cols=2, specs=[[{'type':'domain'}, {'type':'domain'}]])\n",
    "fig.add_trace(go.Pie(labels=label1, values=values1, name=\"SMOKING\"),\n",
    "              1, 1)\n",
    "fig.add_trace(go.Pie(labels=label2, values=values2, name=\"SMOKING VS DEATH_EVENT\"),\n",
    "              1, 2)\n",
    "\n",
    "# Use `hole` to create a donut-like pie chart\n",
    "fig.update_traces(hole=.4, hoverinfo=\"label+percent\")\n",
    "\n",
    "fig.update_layout(\n",
    "    title_text=\"SMOKING DISTRIBUTION IN THE DATASET \\\n",
    "                  SMOKING VS DEATH_EVENT\",\n",
    "    # Add annotations in the center of the donut pies.\n",
    "    annotations=[dict(text='SMOKING', x=0.20, y=0.5, font_size=10, showarrow=False),\n",
    "                 dict(text='SMOKING VS DEATH_EVENT', x=0.84, y=0.5, font_size=8, showarrow=False)],\n",
    "    autosize=False,width=900, height=400, paper_bgcolor=\"white\")\n",
    "fig.show()"
   ]
  },
  {
   "cell_type": "code",
   "execution_count": null,
   "id": "ff9fa0b4",
   "metadata": {},
   "outputs": [],
   "source": [
    "plt.axvline(0,c=(.5,.5,.5), ls='--')\n",
    "plt.axhline(0,c=(.5,.5,.5), ls='--')\n",
    "plt.style.use('seaborn')\n",
    "plt.scatter(heart.age,heart.time,c=heart.time , cmap=\"gist_rainbow\",edgecolor='k');\n",
    "plt.colorbar();"
   ]
  },
  {
   "cell_type": "code",
   "execution_count": null,
   "id": "ed8837c8",
   "metadata": {},
   "outputs": [],
   "source": [
    "fig, ax = plt.subplots(figsize=(8,6))\n",
    "sns.heatmap(heart.corr(), annot=True, fmt='.1g', cmap='viridis');\n"
   ]
  },
  {
   "cell_type": "code",
   "execution_count": null,
   "id": "be400198",
   "metadata": {},
   "outputs": [],
   "source": [
    "fig, ax = plt.subplots(figsize=(14,8))\n",
    "sns.histplot(x=heart[\"age\"], kde=True, color='red')"
   ]
  },
  {
   "cell_type": "code",
   "execution_count": null,
   "id": "e814c39c",
   "metadata": {},
   "outputs": [],
   "source": [
    "healthy = 'heart not failed'\n",
    "unhealthy = 'heart failed'\n",
    "fig, axes = plt.subplots(nrows=1, ncols=2,figsize=(10, 4))\n",
    "women = heart[heart['sex']==0]\n",
    "men = heart[heart['sex']==1]\n",
    "ax = sns.distplot(women[women['DEATH_EVENT']==1].age.dropna(), bins=18, label = unhealthy, ax = axes[0], kde =False)\n",
    "ax = sns.distplot(women[women['DEATH_EVENT']==0].age.dropna(), bins=40, label =healthy, ax = axes[0], kde =False)\n",
    "ax.legend()\n",
    "ax.set_title('Female')\n",
    "ax = sns.distplot(men[men['DEATH_EVENT']==1].age.dropna(), bins=18, label = unhealthy, ax = axes[1], kde = False)\n",
    "ax = sns.distplot(men[men['DEATH_EVENT']==0].age.dropna(), bins=40, label =healthy, ax = axes[1], kde = False)\n",
    "ax.legend()\n",
    "ax.set_title('Male')"
   ]
  },
  {
   "cell_type": "markdown",
   "id": "1fff3ed9",
   "metadata": {},
   "source": [
    "NOW BUILD THE MACHINE LEARNING MODLES"
   ]
  },
  {
   "cell_type": "code",
   "execution_count": null,
   "id": "3395991f",
   "metadata": {},
   "outputs": [],
   "source": [
    "X = heart.drop(\"DEATH_EVENT\", axis=1)\n",
    "X.head()\n"
   ]
  },
  {
   "cell_type": "code",
   "execution_count": null,
   "id": "f64f0bfd",
   "metadata": {
    "scrolled": true
   },
   "outputs": [],
   "source": [
    "Y = heart[\"DEATH_EVENT\"]\n",
    "Y.head()"
   ]
  },
  {
   "cell_type": "markdown",
   "id": "7ec31854",
   "metadata": {},
   "source": [
    "Spliting the data"
   ]
  },
  {
   "cell_type": "code",
   "execution_count": null,
   "id": "cd8ad773",
   "metadata": {},
   "outputs": [],
   "source": [
    "X_train, X_test, y_train, y_test = train_test_split(X, Y,train_size=0.8,test_size=0.2, random_state=1)"
   ]
  },
  {
   "cell_type": "code",
   "execution_count": null,
   "id": "1c60d68d",
   "metadata": {},
   "outputs": [],
   "source": [
    "print(\"x_train=\",X_train)\n",
    "print(\"y_train=\",y_train)\n",
    "print(\"x_test=\",X_test)\n",
    "print(\"y_test=\",y_test)"
   ]
  },
  {
   "cell_type": "code",
   "execution_count": null,
   "id": "97bb69c3",
   "metadata": {},
   "outputs": [],
   "source": [
    "len(X_train), len(X_test),len(y_train), len(y_test)"
   ]
  },
  {
   "cell_type": "markdown",
   "id": "1124a9f1",
   "metadata": {},
   "source": [
    "# Logistic regression\n"
   ]
  },
  {
   "cell_type": "code",
   "execution_count": null,
   "id": "a78c850b",
   "metadata": {},
   "outputs": [],
   "source": [
    "logr = LogisticRegression()\n",
    "logr.fit(X_train, y_train)"
   ]
  },
  {
   "cell_type": "code",
   "execution_count": null,
   "id": "0339c512",
   "metadata": {},
   "outputs": [],
   "source": [
    "Y_pred = logr.predict(X_test)"
   ]
  },
  {
   "cell_type": "code",
   "execution_count": null,
   "id": "abfc78ed",
   "metadata": {},
   "outputs": [],
   "source": [
    "LogisticRegressionScore = logr.score(X_test, y_test)"
   ]
  },
  {
   "cell_type": "code",
   "execution_count": null,
   "id": "ca0fb00c",
   "metadata": {},
   "outputs": [],
   "source": [
    "\n",
    "\n",
    "cf = confusion_matrix(y_test, Y_pred)\n",
    "cf"
   ]
  },
  {
   "cell_type": "code",
   "execution_count": null,
   "id": "763b4c01",
   "metadata": {},
   "outputs": [],
   "source": [
    "sns.heatmap(cf, annot=True, cmap='seismic_r')\n",
    "plt.title(\"Confusion Matrix for Logistic Regression\", fontsize=16, y=1)"
   ]
  },
  {
   "cell_type": "code",
   "execution_count": null,
   "id": "326508ab",
   "metadata": {},
   "outputs": [],
   "source": [
    "print(classification_report(y_test,Y_pred))"
   ]
  },
  {
   "cell_type": "code",
   "execution_count": null,
   "id": "0b3d3a18",
   "metadata": {},
   "outputs": [],
   "source": [
    "acc_log = round(logr.score(X_train, y_train) * 100,4)\n",
    "print(acc_log)"
   ]
  },
  {
   "cell_type": "markdown",
   "id": "80da09ef",
   "metadata": {},
   "source": [
    "# RANDOM FOREST\n"
   ]
  },
  {
   "cell_type": "code",
   "execution_count": null,
   "id": "f11ed302",
   "metadata": {},
   "outputs": [],
   "source": [
    "random_forest = RandomForestClassifier(n_estimators=100)\n",
    "random_forest.fit(X_train, y_train)\n",
    "\n"
   ]
  },
  {
   "cell_type": "code",
   "execution_count": null,
   "id": "e071d199",
   "metadata": {},
   "outputs": [],
   "source": [
    "Y_prediction = random_forest.predict(X_test)\n"
   ]
  },
  {
   "cell_type": "code",
   "execution_count": null,
   "id": "aeccfd0e",
   "metadata": {},
   "outputs": [],
   "source": [
    "random_forest.score(X_train, y_train)"
   ]
  },
  {
   "cell_type": "code",
   "execution_count": null,
   "id": "ab9f6f7a",
   "metadata": {},
   "outputs": [],
   "source": [
    "cf = confusion_matrix(y_test, Y_prediction)\n",
    "cf"
   ]
  },
  {
   "cell_type": "code",
   "execution_count": null,
   "id": "c91a35a4",
   "metadata": {},
   "outputs": [],
   "source": [
    "sns.heatmap(cf, annot=True, cmap='viridis')\n",
    "plt.title(\"Confusion Matrix for Random Forest\", fontsize=16, y=1)"
   ]
  },
  {
   "cell_type": "code",
   "execution_count": null,
   "id": "ccf831d7",
   "metadata": {},
   "outputs": [],
   "source": [
    "print(classification_report(y_test,Y_prediction))"
   ]
  },
  {
   "cell_type": "code",
   "execution_count": null,
   "id": "80f21e8c",
   "metadata": {},
   "outputs": [],
   "source": [
    "acc_forest = round(random_forest.score(X_train, y_train) * 100,4)\n",
    "print(acc_forest)"
   ]
  },
  {
   "cell_type": "markdown",
   "id": "fb534214",
   "metadata": {},
   "source": [
    "# DECISION TREE"
   ]
  },
  {
   "cell_type": "code",
   "execution_count": null,
   "id": "d9aa613d",
   "metadata": {
    "scrolled": true
   },
   "outputs": [],
   "source": [
    "decision_tree = DecisionTreeClassifier()\n",
    "decision_tree.fit(X_train,y_train)"
   ]
  },
  {
   "cell_type": "code",
   "execution_count": null,
   "id": "fe8081fc",
   "metadata": {},
   "outputs": [],
   "source": [
    "Y_predictions =decision_tree.predict(X_test)\n"
   ]
  },
  {
   "cell_type": "code",
   "execution_count": null,
   "id": "0916478d",
   "metadata": {},
   "outputs": [],
   "source": [
    "decision_tree.score(X_train, y_train)"
   ]
  },
  {
   "cell_type": "code",
   "execution_count": null,
   "id": "87381b5b",
   "metadata": {},
   "outputs": [],
   "source": [
    "cf = confusion_matrix(y_test, Y_predictions)\n",
    "cf"
   ]
  },
  {
   "cell_type": "code",
   "execution_count": null,
   "id": "2892bd76",
   "metadata": {},
   "outputs": [],
   "source": [
    "sns.heatmap(cf, annot=True,cmap=\"magma\")\n",
    "plt.title(\"Confusion Matrix for Decision tree\", fontsize=16, y=1)"
   ]
  },
  {
   "cell_type": "code",
   "execution_count": null,
   "id": "205665fa",
   "metadata": {},
   "outputs": [],
   "source": [
    "print(classification_report(y_test,Y_predictions))"
   ]
  },
  {
   "cell_type": "code",
   "execution_count": null,
   "id": "35696a6f",
   "metadata": {},
   "outputs": [],
   "source": [
    "acc_decision = round(random_forest.score(X_train, y_train) * 100,4)\n",
    "print(acc_decision)"
   ]
  },
  {
   "cell_type": "markdown",
   "id": "74be2aae",
   "metadata": {},
   "source": [
    "In these three models let us see which one is the best model for this dataset"
   ]
  },
  {
   "cell_type": "code",
   "execution_count": null,
   "id": "55cb3157",
   "metadata": {},
   "outputs": [],
   "source": [
    "results = pd.DataFrame({\n",
    "    'Model': ['Logistic Regression', \n",
    "              'Random Forest', \n",
    "              'Decision Tree'],\n",
    "    'Score': [  acc_log, \n",
    "              acc_forest, \n",
    "              acc_decision]})\n",
    "result_df = results.sort_values(by='Score', ascending=False)\n",
    "result_df = result_df.set_index('Score')\n",
    "result_df.head(9)"
   ]
  },
  {
   "cell_type": "markdown",
   "id": "cdc9cbfb",
   "metadata": {},
   "source": [
    "In the above table we observed that Random Forest and Decision Tree are more accurate than LogisticRegression"
   ]
  },
  {
   "cell_type": "markdown",
   "id": "c3ec8f99",
   "metadata": {},
   "source": [
    "# K-FOLD CROSS VALIDATION"
   ]
  },
  {
   "cell_type": "markdown",
   "id": "99b501c3",
   "metadata": {},
   "source": [
    "In the above observations Random Forest and Decision Tree got 100% accuracy"
   ]
  },
  {
   "cell_type": "markdown",
   "id": "b62d6a98",
   "metadata": {},
   "source": [
    "Let validate our Random Forest"
   ]
  },
  {
   "cell_type": "code",
   "execution_count": null,
   "id": "f4bcb06e",
   "metadata": {},
   "outputs": [],
   "source": [
    "rf = RandomForestClassifier(n_estimators=100)\n",
    "scores = cross_val_score(rf, X_train, y_train, cv=10, scoring = \"accuracy\")\n",
    "print(\"Scores:\", scores)\n",
    "print(\"Mean:\", scores.mean())\n",
    "print(\"Standard Deviation:\", scores.std())"
   ]
  },
  {
   "cell_type": "markdown",
   "id": "198a7bc0",
   "metadata": {},
   "source": [
    "In our model Random Forest has average accuracy 83% with a standard deviation 5%"
   ]
  },
  {
   "cell_type": "code",
   "execution_count": null,
   "id": "880f3dfd",
   "metadata": {},
   "outputs": [],
   "source": [
    "df = DecisionTreeClassifier()\n",
    "scores = cross_val_score(df, X_train,y_train, cv=10, scoring = \"accuracy\")\n",
    "print(\"Scores:\", scores)\n",
    "print(\"Mean:\", scores.mean())\n",
    "print(\"Standard Deviation:\", scores.std())"
   ]
  },
  {
   "cell_type": "markdown",
   "id": "fb785401",
   "metadata": {},
   "source": [
    "In our model Decision Tree  has average accuracy 75% with a standard deviation 6%"
   ]
  },
  {
   "cell_type": "markdown",
   "id": "a43d9773",
   "metadata": {},
   "source": [
    "# CONCLUSION"
   ]
  },
  {
   "cell_type": "markdown",
   "id": "20ff5ed6",
   "metadata": {},
   "source": [
    "We select the dataset about heart failure .Firstly we import all the required libraries and then we perform th data cleaning process by checking the null values after that we tried to visualize our data with some visualization techniques for better undestanding of the dataset after that we create models for predicting the heart failure we create model by using logisticregression ,random forest and decision tree.we got 100% accuracy in random forest and decision tree and logistic regression has 80% accuracy and then we apply cross validation on random forest and decision tree."
   ]
  }
 ],
 "metadata": {
  "kernelspec": {
   "display_name": "Python 3",
   "language": "python",
   "name": "python3"
  },
  "language_info": {
   "codemirror_mode": {
    "name": "ipython",
    "version": 3
   },
   "file_extension": ".py",
   "mimetype": "text/x-python",
   "name": "python",
   "nbconvert_exporter": "python",
   "pygments_lexer": "ipython3",
   "version": "3.8.8"
  }
 },
 "nbformat": 4,
 "nbformat_minor": 5
}
